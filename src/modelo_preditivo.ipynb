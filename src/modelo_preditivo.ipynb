{
 "cells": [
  {
   "cell_type": "markdown",
   "metadata": {},
   "source": [
    "Importanto Módulos"
   ]
  },
  {
   "cell_type": "code",
   "execution_count": 1,
   "metadata": {},
   "outputs": [],
   "source": [
    "import pandas as pd"
   ]
  },
  {
   "cell_type": "markdown",
   "metadata": {},
   "source": [
    "Importando dados"
   ]
  },
  {
   "cell_type": "code",
   "execution_count": 2,
   "metadata": {},
   "outputs": [
    {
     "name": "stderr",
     "output_type": "stream",
     "text": [
      "C:\\Users\\victo\\AppData\\Local\\Temp\\ipykernel_23928\\669850776.py:5: DtypeWarning: Columns (7,8,12,19,20,22,24) have mixed types. Specify dtype option on import or set low_memory=False.\n",
      "  df_meteor = pd.read_csv(r\"..\\data\\df_dados_meteorologicos.csv\", encoding='utf-8')\n"
     ]
    }
   ],
   "source": [
    "# importando dados de ocorrencias aeronauticas\n",
    "df_ocorr = pd.read_csv(r\"..\\data\\df_ocorrencias_aeronauticas_tratado.csv\", encoding='utf-8')\n",
    "\n",
    "# importando dados meteorologicos\n",
    "df_meteor = pd.read_csv(r\"..\\data\\df_dados_meteorologicos.csv\", encoding='utf-8')"
   ]
  },
  {
   "cell_type": "markdown",
   "metadata": {},
   "source": [
    "Tratando os dados de ocorrências aeronáuticas"
   ]
  },
  {
   "cell_type": "code",
   "execution_count": 3,
   "metadata": {},
   "outputs": [],
   "source": [
    "# filtrando colunas de interesse\n",
    "df_ocorr = df_ocorr.drop(['ocorrencia_latitude',\n",
    "                          'ocorrencia_longitude',\n",
    "                          'ocorrencia_dia',\n",
    "                          'ocorrencia_hora',\n",
    "                          'investigacao_aeronave_liberada',\n",
    "                          'divulgacao_relatorio_numero',\n",
    "                          'divulgacao_dia_publicacao',\n",
    "                          'recomendacao_dia_assinatura',\n",
    "                          'recomendacao_dia_encaminhamento', \n",
    "                          'recomendacao_dia_feedback',\n",
    "                          'recomendacao_numero',\n",
    "                          'recomendacao_conteudo',\n",
    "                          'aeronave_matricula',\n",
    "                          'aeronave_tipo_icao',\n",
    "                          'aeronave_motor_tipo',\n",
    "                          'aeronave_motor_quantidade', \n",
    "                          'aeronave_pmd', \n",
    "                          'aeronave_pmd_categoria',\n",
    "                          'aeronave_assentos', \n",
    "                          'aeronave_ano_fabricacao',\n",
    "                          'aeronave_pais_fabricante', \n",
    "                          'aeronave_pais_registro',\n",
    "                          'aeronave_registro_segmento',\n",
    "                          ], axis=1)"
   ]
  },
  {
   "cell_type": "code",
   "execution_count": 4,
   "metadata": {},
   "outputs": [],
   "source": [
    "# tratando tipos de dados\n",
    "df_ocorr['ocorrencia_classificacao'] = df_ocorr['ocorrencia_classificacao'].astype('category')\n",
    "df_ocorr['ocorrencia_cidade'] = df_ocorr['ocorrencia_cidade'].apply(lambda x: str(x).strip().lower()).astype('category')\n",
    "df_ocorr['ocorrencia_uf'] = df_ocorr['ocorrencia_uf'].apply(lambda x: str(x).strip().lower()).astype('category')\n",
    "df_ocorr['ocorrencia_aerodromo'] = df_ocorr['ocorrencia_aerodromo'].astype('category')\n",
    "df_ocorr['total_recomendacoes'] = df_ocorr['total_recomendacoes'].astype(int)\n",
    "df_ocorr['total_aeronaves_envolvidas'] = df_ocorr['total_aeronaves_envolvidas'].astype(int)\n",
    "df_ocorr['ocorrencia_saida_pista'] = df_ocorr['ocorrencia_saida_pista'].astype('category')\n",
    "df_ocorr['ocorrencia_tipo'] = df_ocorr['ocorrencia_tipo'].astype('category')\n",
    "df_ocorr['ocorrencia_tipo_categoria'] = df_ocorr['ocorrencia_tipo_categoria'].astype('category')\n",
    "df_ocorr['taxonomia_tipo_icao'] = df_ocorr['taxonomia_tipo_icao'].astype('category')\n",
    "df_ocorr['recomendacao_status'] = df_ocorr['recomendacao_status'].astype('category')\n",
    "df_ocorr['recomendacao_destinatario'] = df_ocorr['recomendacao_destinatario'].astype('category')\n",
    "df_ocorr['aeronave_tipo_veiculo'] = df_ocorr['aeronave_tipo_veiculo'].astype('category')\n",
    "df_ocorr['aeronave_fabricante'] = df_ocorr['aeronave_fabricante'].astype('category')\n",
    "df_ocorr['aeronave_modelo'] = df_ocorr['aeronave_modelo'].astype('category')\n",
    "df_ocorr['aeronave_voo_origem'] = df_ocorr['aeronave_voo_origem'].astype('category')\n",
    "df_ocorr['aeronave_voo_destino'] = df_ocorr['aeronave_voo_destino'].astype('category')\n",
    "df_ocorr['aeronave_fase_operacao'] = df_ocorr['aeronave_fase_operacao'].astype('category')\n",
    "df_ocorr['aeronave_tipo_operacao'] = df_ocorr['aeronave_tipo_operacao'].astype('category')\n",
    "df_ocorr['aeronave_nivel_dano'] = df_ocorr['aeronave_nivel_dano'].astype('category')\n",
    "df_ocorr['aeronave_fatalidades_total'] = df_ocorr['aeronave_fatalidades_total'].astype(int)\n",
    "df_ocorr['fator_nome'] = df_ocorr['fator_nome'].astype('category')\n",
    "df_ocorr['fator_aspecto'] = df_ocorr['fator_aspecto'].astype('category')\n",
    "df_ocorr['fator_condicionante'] = df_ocorr['fator_condicionante'].astype('category')\n",
    "df_ocorr['fator_area'] = df_ocorr['fator_area'].astype('category')\n",
    "df_ocorr['ocorrencia_data_hora'] = pd.to_datetime(df_ocorr[\"ocorrencia_data_hora\"])"
   ]
  },
  {
   "cell_type": "markdown",
   "metadata": {},
   "source": [
    "Tratando dados meteorológicos"
   ]
  },
  {
   "cell_type": "code",
   "execution_count": 5,
   "metadata": {},
   "outputs": [],
   "source": [
    "# filtrando colunas de interesse\n",
    "df_meteor = df_meteor.drop(['Unnamed: 0', \n",
    "                            'regiao',\n",
    "                            'estacao_latitude',\n",
    "                            'estacao_longitude',\n",
    "                            'estacao_altitude', \n",
    "                            'umid_relat_ar_max_hora_ant[%]',\n",
    "                            'umid_relat_ar_min_hora_ant[%]',\n",
    "                            'temp_orv_max_hora_ant[oC]',\n",
    "                            'temp_orv_min_hora_ant[oC]',\n",
    "                            'temp_max_hora_ant[oC]',\n",
    "                            'temp_min_hora_ant[oC]',\n",
    "                            'pres_atm_max_hora_ant[mB]',\n",
    "                            'pres_atm_min_hora_ant[mB]',\n",
    "                            ], axis=1)"
   ]
  },
  {
   "cell_type": "code",
   "execution_count": 6,
   "metadata": {},
   "outputs": [],
   "source": [
    "# tratando tipos de dados\n",
    "df_meteor['estacao_cidade'] = df_meteor['estacao_cidade'].apply(lambda x: str(x).strip().lower()).astype('category')\n",
    "df_meteor['uf'] = df_meteor['uf'].apply(lambda x: str(x).strip().lower()).astype('category')\n",
    "df_meteor['precip_total_horario[mm]'] = df_meteor['precip_total_horario[mm]'].apply(lambda x: str(x).replace(\",\",\".\").replace(\" \", \"\")).astype(float)\n",
    "df_meteor['pres_atm_estacao_horaria[mB]'] = df_meteor['pres_atm_estacao_horaria[mB]'].apply(lambda x: str(x).replace(\",\",\".\").replace(\" \", \"\")).astype(float)\n",
    "df_meteor['radiacao_global[KJ/m2]'] = df_meteor['radiacao_global[KJ/m2]'].apply(lambda x: str(x).replace(\",\",\".\").replace(\" \", \"\")).astype(float)\n",
    "df_meteor['temp_ar_bulbo_seco_horario[oC]'] = df_meteor['temp_ar_bulbo_seco_horario[oC]'].apply(lambda x: str(x).replace(\",\",\".\").replace(\" \", \"\")).astype(float)\n",
    "df_meteor['temp_ponto_orvalho[oC]'] = df_meteor['temp_ponto_orvalho[oC]'].apply(lambda x: str(x).replace(\",\",\".\").replace(\" \", \"\")).astype(float)\n",
    "df_meteor['umid_relat_ar_hora_atual[%]'] = df_meteor['umid_relat_ar_hora_atual[%]'].apply(lambda x: str(x).replace(\",\",\".\").replace(\" \", \"\")).astype(float)\n",
    "df_meteor['vento_direcao_hora[gr]'] = df_meteor['vento_direcao_hora[gr]'].apply(lambda x: str(x).replace(\",\",\".\").replace(\" \", \"\")).astype(float)\n",
    "df_meteor['vento_rajada_max_hora[m/s]'] = df_meteor['vento_rajada_max_hora[m/s]'].apply(lambda x: str(x).replace(\",\",\".\").replace(\" \", \"\")).astype(float)\n",
    "df_meteor['vento_vel_hora[m/s]'] = df_meteor['vento_vel_hora[m/s]'].apply(lambda x: str(x).replace(\",\",\".\").replace(\" \", \"\")).astype(float)\n",
    "df_meteor['data_hora'] = pd.to_datetime(df_meteor['data_hora'])"
   ]
  },
  {
   "cell_type": "code",
   "execution_count": 7,
   "metadata": {},
   "outputs": [],
   "source": [
    "# removendo linhas com valores de registro inválidos\n",
    "df_meteor = df_meteor[df_meteor['precip_total_horario[mm]'] != -9999.0]\n",
    "df_meteor = df_meteor[df_meteor['pres_atm_estacao_horaria[mB]'] != -9999.0]\n",
    "df_meteor = df_meteor[df_meteor['radiacao_global[KJ/m2]'] != -9999.0]\n",
    "df_meteor = df_meteor[df_meteor['temp_ar_bulbo_seco_horario[oC]'] != -9999.0]\n",
    "df_meteor = df_meteor[df_meteor['temp_ponto_orvalho[oC]'] != -9999.0]\n",
    "df_meteor = df_meteor[df_meteor['umid_relat_ar_hora_atual[%]'] != -9999.0]\n",
    "df_meteor = df_meteor[df_meteor['vento_direcao_hora[gr]'] != -9999.0]\n",
    "df_meteor = df_meteor[df_meteor['vento_rajada_max_hora[m/s]'] != -9999.0]\n",
    "df_meteor = df_meteor[df_meteor['vento_vel_hora[m/s]'] != -9999.0]"
   ]
  },
  {
   "cell_type": "markdown",
   "metadata": {},
   "source": [
    "Unificando bases de dados"
   ]
  },
  {
   "cell_type": "code",
   "execution_count": 18,
   "metadata": {},
   "outputs": [],
   "source": [
    "# definindo condição de junção dos dados meteorologicos e de ocorrências aeronáuticas\n",
    "df_ocorr[\"condicao\"] = list(zip(df_ocorr[\"ocorrencia_cidade\"], df_ocorr[\"ocorrencia_data_hora\"].dt.date, df_ocorr[\"ocorrencia_data_hora\"].dt.hour))\n",
    "df_meteor[\"condicao\"] = list(zip(df_meteor[\"estacao_cidade\"], df_meteor[\"data_hora\"].dt.date, df_meteor[\"data_hora\"].dt.hour))\n"
   ]
  },
  {
   "cell_type": "code",
   "execution_count": 21,
   "metadata": {},
   "outputs": [],
   "source": [
    "df_meteor = df_meteor[df_meteor[\"condicao\"].isin(df_ocorr[\"condicao\"])]"
   ]
  },
  {
   "cell_type": "code",
   "execution_count": 27,
   "metadata": {},
   "outputs": [],
   "source": [
    "df_meteor = df_meteor[['precip_total_horario[mm]',\n",
    "                       'pres_atm_estacao_horaria[mB]', \n",
    "                       'radiacao_global[KJ/m2]',\n",
    "                       'temp_ar_bulbo_seco_horario[oC]', \n",
    "                       'temp_ponto_orvalho[oC]',\n",
    "                       'umid_relat_ar_hora_atual[%]', \n",
    "                       'vento_direcao_hora[gr]',\n",
    "                       'vento_rajada_max_hora[m/s]', \n",
    "                       'vento_vel_hora[m/s]',\n",
    "                       'condicao',\n",
    "                       ]]"
   ]
  },
  {
   "cell_type": "code",
   "execution_count": 28,
   "metadata": {},
   "outputs": [],
   "source": [
    "df_completo = pd.merge(df_ocorr,df_meteor, on=\"condicao\", how=\"left\")"
   ]
  },
  {
   "cell_type": "markdown",
   "metadata": {},
   "source": [
    "Preparando dados"
   ]
  },
  {
   "cell_type": "code",
   "execution_count": null,
   "metadata": {},
   "outputs": [],
   "source": []
  },
  {
   "cell_type": "markdown",
   "metadata": {},
   "source": [
    "Modelagem Preditiva"
   ]
  },
  {
   "cell_type": "code",
   "execution_count": 5,
   "metadata": {},
   "outputs": [],
   "source": [
    "# • Utilize modelos de machine learning para prever a gravidade dos acidentes ou a\n",
    "# possibilidade de ocorrência com base em características específicas, como tipo de\n",
    "# aeronave, condições climáticas, fase de voo, entre outras.\n",
    "\n",
    "# • Pode-se experimentar diferentes algoritmos, como regressão logística, árvores de decisão,\n",
    "# florestas aleatórias, e máquinas de vetores de suporte para encontrar o modelo mais eficaz.\n",
    "\n",
    "# • Previsão de Saída de Pista: Crie um modelo para prever ocorrencia_saida_pista usando\n",
    "# fatores como aeronave_tipo_operacao, aeronave_fase_operacao, condições\n",
    "# meteorológicas, e outras variáveis relacionadas.\n",
    "\n",
    "# • Análise de Sobrevivência: Use aeronave_fatalidades_total para modelar as taxas de\n",
    "# sobrevivência com base em características do acidente e da aeronave. Modelar as taxas\n",
    "# de sobrevivências usando como fator a co-variável aeronave_modelo\n",
    "\n",
    "# • Recomendações de Segurança: Use total_recomendacoes e recomendacao_conteudo para\n",
    "# avaliar a eficácia das recomendações de segurança ao longo do tempo."
   ]
  },
  {
   "cell_type": "markdown",
   "metadata": {},
   "source": [
    "Validação de Modelos"
   ]
  },
  {
   "cell_type": "code",
   "execution_count": 6,
   "metadata": {},
   "outputs": [],
   "source": [
    "# A validação de modelos é uma etapa fundamental em qualquer projeto de ciência de dados. Ela\n",
    "# nos permite avaliar o desempenho e a eficácia do modelo construído, garantindo que ele seja\n",
    "# capaz de fazer previsões precisas em situações do mundo real. A utilização de métricas\n",
    "# apropriadas desempenha um papel crucial nesse processo, fornecendo uma base objetiva para\n",
    "# a análise dos resultados.\n",
    "# Após a construção de um modelo para previsão a etapa seguinte é avaliar o quão bem ele se\n",
    "# comporta em relação aos dados de teste ou dados não vistos. A validação é um processo crítico\n",
    "# para determinar a capacidade do modelo de generalizar informações a partir dos dados de\n",
    "# treinamento para novos dados. Aqui estão alguns aspectos-chave a serem considerados:\n",
    "# 1. Conjunto de Teste Adequado: Reserve uma porção dos seus dados para criar um conjunto\n",
    "# de teste. Isso deve ser feito de forma a representar adequadamente os cenários do mundo real\n",
    "# que o modelo enfrentará. O conjunto de teste deve ser independente dos dados de treinamento.\n",
    "# Avalie a Cross-Validation (Validação Cruzada): técnicas de validação cruzada, como kfold cross-validation, para avaliar a robustez do seu modelo pode trazer resultados melhores.\n",
    "# Isso envolve dividir seus dados em k subconjuntos, treinar e testar o modelo k vezes e calcular\n",
    "# métricas médias de desempenho.\n",
    "# Métricas de Avaliação: Escolha métricas apropriadas para avaliar o desempenho do modelo.\n",
    "# Cada métrica fornece uma perspectiva diferente sobre o desempenho do modelo. Cada\n",
    "# algoritmo preditivo pode ser avaliado por meio de métricas específicas que fornecem insights\n",
    "# valiosos sobre diferentes aspectos do seu desempenho. Aqui estão algumas das métricas mais\n",
    "# comuns e suas aplicações em diferentes algoritmos:\n",
    "# • Acurácia (Accuracy):\n",
    "# • Esta métrica mede a proporção de previsões corretas em relação ao total de previsões\n",
    "# feitas pelo modelo. É uma métrica geralmente utilizada para avaliar modelos de\n",
    "# classificação binária e multiclasse.\n",
    "# • Precisão (Precision):\n",
    "# • A precisão mede a proporção de exemplos classificados como positivos que realmente\n",
    "# são positivos. É particularmente útil quando o foco está na minimização de falsos\n",
    "# positivos. É calculada como a proporção de verdadeiros positivos (TP) em relação ao\n",
    "# total de previsões positivas (TP + Falsos positivos (FP)).\n",
    "# • Revocação (Recall ou Sensibilidade):\n",
    "# • A revocação mede a proporção de exemplos positivos que foram corretamente\n",
    "# identificados pelo modelo. É especialmente importante quando a identificação de todos\n",
    "# os exemplos positivos é uma prioridade. É calculada como a proporção de verdadeiros\n",
    "# positivos (TP) em relação ao total de exemplos positivos na base de dados (TP + Falsos\n",
    "# negativos (FN)).\n",
    "# • F1-Score:\n",
    "# • O F1-score é a média harmônica entre precisão e revocação. Ele fornece uma métrica\n",
    "# única que equilibra essas duas medidas e é útil quando não há uma clara preferência\n",
    "# entre elas. É calculado como 2 * (Precisão * Revocação) / (Precisão + Revocação).\n",
    "# • Área sob a Curva ROC (ROC AUC):\n",
    "# • Esta métrica é comumente usada para avaliar a capacidade de um modelo de\n",
    "# classificação em distinguir entre classes positivas e negativas. A curva ROC é uma\n",
    "# representação gráfica da taxa de verdadeiros positivos (Revocação) em relação à taxa\n",
    "# de falsos positivos (1 - Especificidade), e a área sob a curva (ROC AUC) é calculada\n",
    "# para medir a qualidade geral do modelo.\n",
    "# • Erro Médio Absoluto (MAE) e Erro Quadrático Médio (MSE):\n",
    "# • Essas métricas são comumente usadas para avaliar modelos de regressão. O MAE\n",
    "# mede a média das diferenças absolutas entre as previsões do modelo e os valores reais.\n",
    "# O MSE mede a média dos quadrados dessas diferenças. Ambos fornecem uma medida\n",
    "# da qualidade das previsões do modelo.\n",
    "# • Erro Médio Percentual Absoluto (MAPE):\n",
    "# • O MAPE mede a média das proporções de erro absoluto em relação aos valores reais.\n",
    "# É uma métrica útil para entender a precisão relativa do modelo em relação às\n",
    "# observações reais, especialmente em contextos em que a magnitude das previsões é\n",
    "# importante.\n",
    "# • R² (Coeficiente de Determinação):\n",
    "# • O R² é uma medida que indica a proporção da variabilidade dos valores de saída que é\n",
    "# explicada pelo modelo. Ele fornece uma medida da adequação do modelo aos dados\n",
    "# observados e é uma métrica importante em problemas de regressão.\n",
    "# • Comparação com Benchmark: Compare o desempenho do seu modelo com um\n",
    "# benchmark ou baseline. Isso pode ser um modelo simples, como uma média dos preços,\n",
    "# que fornece um ponto de referência para avaliar se o seu modelo está realmente\n",
    "# trazendo melhorias.\n",
    "# 1. Overfitting e Underfitting: Esteja atento a sinais de overfitting (modelo se ajustando\n",
    "# demais aos dados de treinamento) ou underfitting (modelo muito simplificado). A\n",
    "# curva de aprendizado, que mostra o desempenho do modelo em relação ao tamanho do\n",
    "# conjunto de treinamento, pode ser útil para identificar esses problemas.\n",
    "# • Visualização dos Resultados: Além das métricas, utilize visualizações, como gráficos\n",
    "# de dispersão (scatter plots) das previsões versus valores reais, para entender como o\n",
    "# modelo está se comportando em diferentes partes do espaço de recursos.\n",
    "# • Ajuste de Hiperparâmetros: Se o desempenho do modelo não atender às\n",
    "# expectativas, considere ajustar os hiperparâmetros do modelo e repetir o processo de\n",
    "# validação.\n",
    "# • Interpretação dos Resultados: Não apenas avalie o desempenho quantitativamente,\n",
    "# mas também interprete os resultados qualitativamente. Pergunte-se se as previsões\n",
    "# fazem sentido do ponto de vista do negócio e se podem ser úteis para os usuários finais.\n",
    "# • Documentação Completa Documente todas as etapas do processo de validação,\n",
    "# incluindo as métricas utilizadas, os resultados obtidos e as decisões tomadas com base\n",
    "# na validação. Isso é essencial para comunicar os resultados aos stakeholders e para\n",
    "# futuras referências.\n",
    "# • Melhorias Iterativas: A validação não é uma etapa única; é um processo iterativo.\n",
    "# Continue refinando e aprimorando seu modelo com base nos resultados da validação.\n",
    "# Em resumo, a validação de modelos e o uso de métricas são partes essenciais do ciclo de\n",
    "# desenvolvimento de modelos de aprendizado de máquina. Essas etapas garantem que seu\n",
    "# modelo seja preciso, confiável e útil para tomar decisões informadas no mundo real. Portanto,\n",
    "# dedique tempo e atenção a essa fase crítica do projeto de ciência de dados."
   ]
  }
 ],
 "metadata": {
  "kernelspec": {
   "display_name": "venv",
   "language": "python",
   "name": "python3"
  },
  "language_info": {
   "codemirror_mode": {
    "name": "ipython",
    "version": 3
   },
   "file_extension": ".py",
   "mimetype": "text/x-python",
   "name": "python",
   "nbconvert_exporter": "python",
   "pygments_lexer": "ipython3",
   "version": "3.12.1"
  }
 },
 "nbformat": 4,
 "nbformat_minor": 2
}
